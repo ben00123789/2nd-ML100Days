{
 "cells": [
  {
   "cell_type": "markdown",
   "metadata": {},
   "source": [
    "## Work\n",
    "1. 試比較 save_best_only 與否的差異\n",
    "2. 請僅存入將 save_weights_only 設定為 True, 並嘗試 reset ipynb 並將模型與權重重新建回並預測 x_test"
   ]
  },
  {
   "cell_type": "code",
   "execution_count": 1,
   "metadata": {},
   "outputs": [
    {
     "name": "stderr",
     "output_type": "stream",
     "text": [
      "Using TensorFlow backend.\n"
     ]
    }
   ],
   "source": [
    "import os\n",
    "import keras\n",
    "\n",
    "# Disable GPU\n",
    "os.environ[\"CUDA_VISIBLE_DEVICES\"] = \"0\""
   ]
  },
  {
   "cell_type": "code",
   "execution_count": 2,
   "metadata": {},
   "outputs": [],
   "source": [
    "train, test = keras.datasets.cifar10.load_data()"
   ]
  },
  {
   "cell_type": "code",
   "execution_count": 3,
   "metadata": {},
   "outputs": [],
   "source": [
    "## 資料前處理\n",
    "def preproc_x(x, flatten=True):\n",
    "    x = x / 255.\n",
    "    if flatten:\n",
    "        x = x.reshape((len(x), -1))\n",
    "    return x\n",
    "\n",
    "def preproc_y(y, num_classes=10):\n",
    "    if y.shape[-1] == 1:\n",
    "        y = keras.utils.to_categorical(y, num_classes)\n",
    "    return y    "
   ]
  },
  {
   "cell_type": "code",
   "execution_count": 4,
   "metadata": {},
   "outputs": [],
   "source": [
    "x_train, y_train = train\n",
    "x_test, y_test = test\n",
    "\n",
    "# Preproc the inputs\n",
    "x_train = preproc_x(x_train)\n",
    "x_test = preproc_x(x_test)\n",
    "\n",
    "# Preprc the outputs\n",
    "y_train = preproc_y(y_train)\n",
    "y_test = preproc_y(y_test)"
   ]
  },
  {
   "cell_type": "code",
   "execution_count": 5,
   "metadata": {},
   "outputs": [],
   "source": [
    "from keras.layers import BatchNormalization\n",
    "def build_mlp(input_shape, output_units=10, num_neurons=[512, 256, 128]):\n",
    "    \"\"\"Code Here\n",
    "    建立你的神經網路\n",
    "    \"\"\"\n",
    "    input_layer = keras.layers.Input(input_shape)\n",
    "    \n",
    "    for i, n_units in enumerate(num_neurons):\n",
    "        if i == 0:\n",
    "            x = keras.layers.Dense(units=n_units,\n",
    "                                   activation=\"relu\",\n",
    "                                   name=\"hidden_layer\"+str(i+1))(input_layer)\n",
    "            x = BatchNormalization()(x)\n",
    "        else:\n",
    "            x = keras.layers.Dense(units=n_units,\n",
    "                                   activation=\"relu\",\n",
    "                                   name=\"hidden_layer\"+str(i+1))(x)\n",
    "            x = BatchNormalization()(x)\n",
    "            \n",
    "    out = keras.layers.Dense(units=output_units, activation=\"softmax\", name=\"output\")(x)\n",
    "    model = keras.models.Model(inputs=[input_layer], outputs=[out])\n",
    "    return model"
   ]
  },
  {
   "cell_type": "code",
   "execution_count": 6,
   "metadata": {},
   "outputs": [],
   "source": [
    "\"\"\"Code Here\n",
    "設定超參數\n",
    "\"\"\"\n",
    "LEARNING_RATE = 1e-3\n",
    "EPOCHS = 50\n",
    "BATCH_SIZE = 1024\n",
    "MOMENTUM = 0.95\n",
    "BEST_ONLY = True"
   ]
  },
  {
   "cell_type": "code",
   "execution_count": 7,
   "metadata": {},
   "outputs": [
    {
     "name": "stdout",
     "output_type": "stream",
     "text": [
      "Save best only = True\n",
      "WARNING:tensorflow:From D:\\Software\\Anaconda3\\lib\\site-packages\\tensorflow\\python\\framework\\op_def_library.py:263: colocate_with (from tensorflow.python.framework.ops) is deprecated and will be removed in a future version.\n",
      "Instructions for updating:\n",
      "Colocations handled automatically by placer.\n",
      "_________________________________________________________________\n",
      "Layer (type)                 Output Shape              Param #   \n",
      "=================================================================\n",
      "input_1 (InputLayer)         (None, 3072)              0         \n",
      "_________________________________________________________________\n",
      "hidden_layer1 (Dense)        (None, 512)               1573376   \n",
      "_________________________________________________________________\n",
      "batch_normalization_1 (Batch (None, 512)               2048      \n",
      "_________________________________________________________________\n",
      "hidden_layer2 (Dense)        (None, 256)               131328    \n",
      "_________________________________________________________________\n",
      "batch_normalization_2 (Batch (None, 256)               1024      \n",
      "_________________________________________________________________\n",
      "hidden_layer3 (Dense)        (None, 128)               32896     \n",
      "_________________________________________________________________\n",
      "batch_normalization_3 (Batch (None, 128)               512       \n",
      "_________________________________________________________________\n",
      "output (Dense)               (None, 10)                1290      \n",
      "=================================================================\n",
      "Total params: 1,742,474\n",
      "Trainable params: 1,740,682\n",
      "Non-trainable params: 1,792\n",
      "_________________________________________________________________\n",
      "WARNING:tensorflow:From D:\\Software\\Anaconda3\\lib\\site-packages\\tensorflow\\python\\ops\\math_ops.py:3066: to_int32 (from tensorflow.python.ops.math_ops) is deprecated and will be removed in a future version.\n",
      "Instructions for updating:\n",
      "Use tf.cast instead.\n",
      "Train on 50000 samples, validate on 10000 samples\n",
      "Epoch 1/50\n",
      "50000/50000 [==============================] - 5s 101us/step - loss: 2.1891 - acc: 0.2713 - val_loss: 2.0368 - val_acc: 0.3292\n",
      "Epoch 2/50\n",
      "50000/50000 [==============================] - 2s 44us/step - loss: 1.7233 - acc: 0.3995 - val_loss: 1.8056 - val_acc: 0.3851\n",
      "Epoch 3/50\n",
      "50000/50000 [==============================] - 2s 44us/step - loss: 1.6086 - acc: 0.4391 - val_loss: 1.6640 - val_acc: 0.4221\n",
      "Epoch 4/50\n",
      "50000/50000 [==============================] - 2s 43us/step - loss: 1.5397 - acc: 0.4611 - val_loss: 1.6232 - val_acc: 0.4291\n",
      "Epoch 5/50\n",
      "50000/50000 [==============================] - 2s 44us/step - loss: 1.4844 - acc: 0.4819 - val_loss: 1.5837 - val_acc: 0.4427\n",
      "Epoch 6/50\n",
      "50000/50000 [==============================] - 2s 43us/step - loss: 1.4423 - acc: 0.4981 - val_loss: 1.5631 - val_acc: 0.4508\n",
      "Epoch 7/50\n",
      "50000/50000 [==============================] - 2s 43us/step - loss: 1.4057 - acc: 0.5078 - val_loss: 1.5452 - val_acc: 0.4561\n",
      "Epoch 8/50\n",
      "50000/50000 [==============================] - 2s 43us/step - loss: 1.3692 - acc: 0.5223 - val_loss: 1.5305 - val_acc: 0.4627\n",
      "Epoch 9/50\n",
      "50000/50000 [==============================] - 2s 43us/step - loss: 1.3374 - acc: 0.5340 - val_loss: 1.5206 - val_acc: 0.4660\n",
      "Epoch 10/50\n",
      "50000/50000 [==============================] - 2s 43us/step - loss: 1.3087 - acc: 0.5453 - val_loss: 1.4974 - val_acc: 0.4703\n",
      "Epoch 11/50\n",
      "50000/50000 [==============================] - 2s 43us/step - loss: 1.2808 - acc: 0.5535 - val_loss: 1.4881 - val_acc: 0.4770\n",
      "Epoch 12/50\n",
      "50000/50000 [==============================] - 2s 43us/step - loss: 1.2554 - acc: 0.5650 - val_loss: 1.4957 - val_acc: 0.4759\n",
      "Epoch 13/50\n",
      "50000/50000 [==============================] - 2s 44us/step - loss: 1.2304 - acc: 0.5736 - val_loss: 1.4740 - val_acc: 0.4861\n",
      "Epoch 14/50\n",
      "50000/50000 [==============================] - 2s 43us/step - loss: 1.2038 - acc: 0.5825 - val_loss: 1.4711 - val_acc: 0.4822\n",
      "Epoch 15/50\n",
      "50000/50000 [==============================] - 2s 46us/step - loss: 1.1825 - acc: 0.5912 - val_loss: 1.4613 - val_acc: 0.4858\n",
      "Epoch 16/50\n",
      "50000/50000 [==============================] - 2s 45us/step - loss: 1.1590 - acc: 0.6003 - val_loss: 1.4597 - val_acc: 0.4908\n",
      "Epoch 17/50\n",
      "50000/50000 [==============================] - 2s 44us/step - loss: 1.1362 - acc: 0.6084 - val_loss: 1.4594 - val_acc: 0.4891\n",
      "Epoch 18/50\n",
      "50000/50000 [==============================] - 2s 43us/step - loss: 1.1144 - acc: 0.6182 - val_loss: 1.4505 - val_acc: 0.4963\n",
      "Epoch 19/50\n",
      "50000/50000 [==============================] - 2s 43us/step - loss: 1.0909 - acc: 0.6249 - val_loss: 1.4569 - val_acc: 0.4925\n",
      "Epoch 20/50\n",
      "50000/50000 [==============================] - 2s 43us/step - loss: 1.0709 - acc: 0.6357 - val_loss: 1.4571 - val_acc: 0.4927\n",
      "Epoch 21/50\n",
      "50000/50000 [==============================] - 2s 43us/step - loss: 1.0495 - acc: 0.6420 - val_loss: 1.4499 - val_acc: 0.4948\n",
      "Epoch 22/50\n",
      "50000/50000 [==============================] - 2s 44us/step - loss: 1.0276 - acc: 0.6498 - val_loss: 1.4583 - val_acc: 0.4888\n",
      "Epoch 23/50\n",
      "50000/50000 [==============================] - 2s 47us/step - loss: 1.0084 - acc: 0.6596 - val_loss: 1.4682 - val_acc: 0.4880\n",
      "Epoch 24/50\n",
      "50000/50000 [==============================] - 2s 44us/step - loss: 0.9875 - acc: 0.6658 - val_loss: 1.4626 - val_acc: 0.4865\n",
      "Epoch 25/50\n",
      "50000/50000 [==============================] - 2s 43us/step - loss: 0.9668 - acc: 0.6758 - val_loss: 1.4571 - val_acc: 0.4965\n",
      "Epoch 26/50\n",
      "50000/50000 [==============================] - 2s 44us/step - loss: 0.9462 - acc: 0.6822 - val_loss: 1.4721 - val_acc: 0.4950\n",
      "Epoch 27/50\n",
      "50000/50000 [==============================] - 2s 44us/step - loss: 0.9281 - acc: 0.6902 - val_loss: 1.4719 - val_acc: 0.4976\n",
      "Epoch 28/50\n",
      "50000/50000 [==============================] - 2s 44us/step - loss: 0.9071 - acc: 0.6983 - val_loss: 1.4632 - val_acc: 0.4954\n",
      "Epoch 29/50\n",
      "50000/50000 [==============================] - 2s 44us/step - loss: 0.8878 - acc: 0.7049 - val_loss: 1.4696 - val_acc: 0.4956\n",
      "Epoch 30/50\n",
      "50000/50000 [==============================] - 2s 44us/step - loss: 0.8674 - acc: 0.7123 - val_loss: 1.4877 - val_acc: 0.4951\n",
      "Epoch 31/50\n",
      "50000/50000 [==============================] - 2s 44us/step - loss: 0.8464 - acc: 0.7231 - val_loss: 1.4897 - val_acc: 0.4919\n",
      "Epoch 32/50\n",
      "50000/50000 [==============================] - 2s 44us/step - loss: 0.8281 - acc: 0.7286 - val_loss: 1.4853 - val_acc: 0.4960\n",
      "Epoch 33/50\n",
      "50000/50000 [==============================] - 2s 47us/step - loss: 0.8084 - acc: 0.7368 - val_loss: 1.4963 - val_acc: 0.4979\n",
      "Epoch 34/50\n",
      "50000/50000 [==============================] - 2s 44us/step - loss: 0.7880 - acc: 0.7438 - val_loss: 1.4956 - val_acc: 0.4958\n",
      "Epoch 35/50\n",
      "50000/50000 [==============================] - 2s 44us/step - loss: 0.7690 - acc: 0.7523 - val_loss: 1.5182 - val_acc: 0.4901\n",
      "Epoch 36/50\n",
      "50000/50000 [==============================] - 2s 44us/step - loss: 0.7503 - acc: 0.7603 - val_loss: 1.5190 - val_acc: 0.4911\n",
      "Epoch 37/50\n",
      "50000/50000 [==============================] - 2s 45us/step - loss: 0.7294 - acc: 0.7684 - val_loss: 1.5283 - val_acc: 0.4942\n",
      "Epoch 38/50\n",
      "50000/50000 [==============================] - 2s 45us/step - loss: 0.7128 - acc: 0.7748 - val_loss: 1.5356 - val_acc: 0.4932\n",
      "Epoch 39/50\n",
      "50000/50000 [==============================] - 2s 43us/step - loss: 0.6949 - acc: 0.7829 - val_loss: 1.5300 - val_acc: 0.5010\n",
      "Epoch 40/50\n",
      "50000/50000 [==============================] - 2s 43us/step - loss: 0.6748 - acc: 0.7911 - val_loss: 1.5386 - val_acc: 0.4921\n",
      "Epoch 41/50\n",
      "50000/50000 [==============================] - 2s 43us/step - loss: 0.6580 - acc: 0.7960 - val_loss: 1.5640 - val_acc: 0.4936\n",
      "Epoch 42/50\n",
      "50000/50000 [==============================] - 2s 44us/step - loss: 0.6407 - acc: 0.8046 - val_loss: 1.5681 - val_acc: 0.4956\n",
      "Epoch 43/50\n",
      "50000/50000 [==============================] - 2s 43us/step - loss: 0.6209 - acc: 0.8112 - val_loss: 1.5784 - val_acc: 0.4923\n",
      "Epoch 44/50\n",
      "50000/50000 [==============================] - 2s 43us/step - loss: 0.6023 - acc: 0.8199 - val_loss: 1.5901 - val_acc: 0.4961\n",
      "Epoch 45/50\n",
      "50000/50000 [==============================] - 2s 44us/step - loss: 0.5872 - acc: 0.8244 - val_loss: 1.5941 - val_acc: 0.4915\n",
      "Epoch 46/50\n",
      "50000/50000 [==============================] - 2s 43us/step - loss: 0.5687 - acc: 0.8320 - val_loss: 1.6041 - val_acc: 0.4973\n",
      "Epoch 47/50\n",
      "50000/50000 [==============================] - 2s 43us/step - loss: 0.5519 - acc: 0.8396 - val_loss: 1.6151 - val_acc: 0.4906\n",
      "Epoch 48/50\n",
      "50000/50000 [==============================] - 2s 43us/step - loss: 0.5341 - acc: 0.8456 - val_loss: 1.6433 - val_acc: 0.4889\n",
      "Epoch 49/50\n",
      "50000/50000 [==============================] - 2s 43us/step - loss: 0.5195 - acc: 0.8523 - val_loss: 1.6588 - val_acc: 0.4881\n",
      "Epoch 50/50\n",
      "50000/50000 [==============================] - 2s 43us/step - loss: 0.5010 - acc: 0.8598 - val_loss: 1.6531 - val_acc: 0.4951\n"
     ]
    }
   ],
   "source": [
    "from keras.callbacks import ModelCheckpoint # 載入 Callbacks\n",
    "\"\"\"Code Here\n",
    "設定 callbacks: model checkpoint\n",
    "\"\"\"\n",
    "results = {}\n",
    "\n",
    "keras.backend.clear_session()\n",
    "print(\"Save best only = %r\" % (BEST_ONLY))\n",
    "model_ckpt = ModelCheckpoint(filepath=\"./tmp.h5\",\n",
    "                             monitor=\"val_loss\",\n",
    "                             save_best_only=BEST_ONLY,\n",
    "                             save_weights_only=True)\n",
    "\n",
    "\"\"\"Code Here\n",
    "撰寫你的訓練流程並將結果用 dictionary 紀錄\n",
    "\"\"\"\n",
    "model = build_mlp(input_shape=x_train.shape[1:])\n",
    "model.summary()\n",
    "\n",
    "optimizer = keras.optimizers.SGD(lr=LEARNING_RATE, nesterov=True, momentum=MOMENTUM)\n",
    "model.compile(loss=\"categorical_crossentropy\", metrics=[\"accuracy\"], optimizer=optimizer)\n",
    "\n",
    "model.fit(x_train, y_train,\n",
    "          epochs=EPOCHS,\n",
    "          batch_size=BATCH_SIZE,\n",
    "          validation_data=(x_test, y_test),\n",
    "          shuffle=True,\n",
    "          callbacks=[model_ckpt])\n",
    "\n",
    "train_loss = model.history.history[\"loss\"]\n",
    "valid_loss = model.history.history[\"val_loss\"]\n",
    "train_acc = model.history.history[\"acc\"]\n",
    "valid_acc = model.history.history[\"val_acc\"]"
   ]
  },
  {
   "cell_type": "code",
   "execution_count": 12,
   "metadata": {},
   "outputs": [
    {
     "name": "stdout",
     "output_type": "stream",
     "text": [
      "10000/10000 [==============================] - 1s 93us/step\n"
     ]
    }
   ],
   "source": [
    "from keras.models import load_model\n",
    "model.load_weights(\"./tmp.h5\")\n",
    "loss_loadback, acc_loadback = model.evaluate(x_test, y_test)"
   ]
  },
  {
   "cell_type": "code",
   "execution_count": 13,
   "metadata": {},
   "outputs": [
    {
     "data": {
      "image/png": "[encoded data removed]",
      "text/plain": [
       "<Figure size 432x288 with 1 Axes>"
      ]
     },
     "metadata": {
      "needs_background": "light"
     },
     "output_type": "display_data"
    },
    {
     "data": {
      "image/png": "[encoded data removed]",
      "text/plain": [
       "<Figure size 432x288 with 1 Axes>"
      ]
     },
     "metadata": {
      "needs_background": "light"
     },
     "output_type": "display_data"
    }
   ],
   "source": [
    "import matplotlib.pyplot as plt\n",
    "%matplotlib inline\n",
    "\n",
    "plt.plot(range(EPOCHS), train_loss, label=\"train loss\")\n",
    "plt.plot(range(EPOCHS), valid_loss, label=\"valid loss\")\n",
    "plt.hlines(y=loss_loadback, xmin=0, xmax=EPOCHS, colors='r', linestyles='--')\n",
    "plt.legend()\n",
    "plt.title(\"Loss\")\n",
    "plt.show()\n",
    "\n",
    "plt.plot(range(EPOCHS), train_acc, label=\"train accuracy\")\n",
    "plt.plot(range(EPOCHS), valid_acc, label=\"valid accuracy\")\n",
    "plt.hlines(y=acc_loadback, xmin=0, xmax=EPOCHS, colors='r', linestyles='--')\n",
    "plt.legend()\n",
    "plt.title(\"Accuracy\")\n",
    "plt.show()\n"
   ]
  },
  {
   "cell_type": "code",
   "execution_count": 14,
   "metadata": {},
   "outputs": [
    {
     "name": "stdout",
     "output_type": "stream",
     "text": [
      "Save best only = False\n",
      "_________________________________________________________________\n",
      "Layer (type)                 Output Shape              Param #   \n",
      "=================================================================\n",
      "input_1 (InputLayer)         (None, 3072)              0         \n",
      "_________________________________________________________________\n",
      "hidden_layer1 (Dense)        (None, 512)               1573376   \n",
      "_________________________________________________________________\n",
      "batch_normalization_1 (Batch (None, 512)               2048      \n",
      "_________________________________________________________________\n",
      "hidden_layer2 (Dense)        (None, 256)               131328    \n",
      "_________________________________________________________________\n",
      "batch_normalization_2 (Batch (None, 256)               1024      \n",
      "_________________________________________________________________\n",
      "hidden_layer3 (Dense)        (None, 128)               32896     \n",
      "_________________________________________________________________\n",
      "batch_normalization_3 (Batch (None, 128)               512       \n",
      "_________________________________________________________________\n",
      "output (Dense)               (None, 10)                1290      \n",
      "=================================================================\n",
      "Total params: 1,742,474\n",
      "Trainable params: 1,740,682\n",
      "Non-trainable params: 1,792\n",
      "_________________________________________________________________\n",
      "Train on 50000 samples, validate on 10000 samples\n",
      "Epoch 1/50\n",
      "50000/50000 [==============================] - 4s 73us/step - loss: 2.2109 - acc: 0.2649 - val_loss: 2.1405 - val_acc: 0.3192\n",
      "Epoch 2/50\n",
      "50000/50000 [==============================] - 2s 45us/step - loss: 1.7462 - acc: 0.3895 - val_loss: 1.8426 - val_acc: 0.3774\n",
      "Epoch 3/50\n",
      "50000/50000 [==============================] - 2s 45us/step - loss: 1.6287 - acc: 0.4320 - val_loss: 1.7050 - val_acc: 0.4106\n",
      "Epoch 4/50\n",
      "50000/50000 [==============================] - 2s 44us/step - loss: 1.5555 - acc: 0.4586 - val_loss: 1.6516 - val_acc: 0.4199\n",
      "Epoch 5/50\n",
      "50000/50000 [==============================] - 2s 43us/step - loss: 1.5006 - acc: 0.4782 - val_loss: 1.6084 - val_acc: 0.4408\n",
      "Epoch 6/50\n",
      "50000/50000 [==============================] - 2s 43us/step - loss: 1.4544 - acc: 0.4945 - val_loss: 1.5681 - val_acc: 0.4463\n",
      "Epoch 7/50\n",
      "50000/50000 [==============================] - 2s 43us/step - loss: 1.4134 - acc: 0.5098 - val_loss: 1.5463 - val_acc: 0.4533\n",
      "Epoch 8/50\n",
      "50000/50000 [==============================] - 2s 43us/step - loss: 1.3787 - acc: 0.5237 - val_loss: 1.5257 - val_acc: 0.4622\n",
      "Epoch 9/50\n",
      "50000/50000 [==============================] - 2s 43us/step - loss: 1.3444 - acc: 0.5349 - val_loss: 1.5111 - val_acc: 0.4694\n",
      "Epoch 10/50\n",
      "50000/50000 [==============================] - 2s 44us/step - loss: 1.3129 - acc: 0.5475 - val_loss: 1.5016 - val_acc: 0.4690\n",
      "Epoch 11/50\n",
      "50000/50000 [==============================] - 2s 45us/step - loss: 1.2847 - acc: 0.5570 - val_loss: 1.4915 - val_acc: 0.4787\n",
      "Epoch 12/50\n",
      "50000/50000 [==============================] - 2s 44us/step - loss: 1.2581 - acc: 0.5671 - val_loss: 1.4799 - val_acc: 0.4800\n",
      "Epoch 13/50\n",
      "50000/50000 [==============================] - 2s 44us/step - loss: 1.2323 - acc: 0.5763 - val_loss: 1.4817 - val_acc: 0.4784\n",
      "Epoch 14/50\n",
      "50000/50000 [==============================] - 2s 44us/step - loss: 1.2070 - acc: 0.5850 - val_loss: 1.4717 - val_acc: 0.4835\n",
      "Epoch 15/50\n",
      "50000/50000 [==============================] - 2s 44us/step - loss: 1.1822 - acc: 0.5953 - val_loss: 1.4755 - val_acc: 0.4819\n",
      "Epoch 16/50\n",
      "50000/50000 [==============================] - 2s 44us/step - loss: 1.1567 - acc: 0.6041 - val_loss: 1.4623 - val_acc: 0.4868\n",
      "Epoch 17/50\n",
      "50000/50000 [==============================] - 2s 44us/step - loss: 1.1346 - acc: 0.6133 - val_loss: 1.4759 - val_acc: 0.4873\n",
      "Epoch 18/50\n",
      "50000/50000 [==============================] - 2s 44us/step - loss: 1.1106 - acc: 0.6230 - val_loss: 1.4542 - val_acc: 0.4896\n",
      "Epoch 19/50\n",
      "50000/50000 [==============================] - 2s 44us/step - loss: 1.0886 - acc: 0.6305 - val_loss: 1.4606 - val_acc: 0.4903\n",
      "Epoch 20/50\n",
      "50000/50000 [==============================] - 2s 44us/step - loss: 1.0660 - acc: 0.6388 - val_loss: 1.4641 - val_acc: 0.4895\n",
      "Epoch 21/50\n",
      "50000/50000 [==============================] - 2s 44us/step - loss: 1.0475 - acc: 0.6467 - val_loss: 1.4669 - val_acc: 0.4873\n",
      "Epoch 22/50\n",
      "50000/50000 [==============================] - 2s 44us/step - loss: 1.0227 - acc: 0.6559 - val_loss: 1.4753 - val_acc: 0.4846\n",
      "Epoch 23/50\n",
      "50000/50000 [==============================] - 2s 44us/step - loss: 1.0041 - acc: 0.6626 - val_loss: 1.4745 - val_acc: 0.4841\n",
      "Epoch 24/50\n",
      "50000/50000 [==============================] - 2s 44us/step - loss: 0.9823 - acc: 0.6703 - val_loss: 1.4756 - val_acc: 0.4870\n",
      "Epoch 25/50\n",
      "50000/50000 [==============================] - 2s 44us/step - loss: 0.9612 - acc: 0.6787 - val_loss: 1.4639 - val_acc: 0.4904\n",
      "Epoch 26/50\n",
      "50000/50000 [==============================] - 2s 44us/step - loss: 0.9413 - acc: 0.6865 - val_loss: 1.4648 - val_acc: 0.4921\n",
      "Epoch 27/50\n",
      "50000/50000 [==============================] - 2s 44us/step - loss: 0.9213 - acc: 0.6939 - val_loss: 1.4731 - val_acc: 0.4928\n",
      "Epoch 28/50\n",
      "50000/50000 [==============================] - 2s 44us/step - loss: 0.8991 - acc: 0.7038 - val_loss: 1.4734 - val_acc: 0.4969\n",
      "Epoch 29/50\n",
      "50000/50000 [==============================] - 2s 44us/step - loss: 0.8811 - acc: 0.7107 - val_loss: 1.4855 - val_acc: 0.4892\n",
      "Epoch 30/50\n",
      "50000/50000 [==============================] - 2s 44us/step - loss: 0.8626 - acc: 0.7157 - val_loss: 1.4875 - val_acc: 0.4966\n",
      "Epoch 31/50\n",
      "50000/50000 [==============================] - 2s 44us/step - loss: 0.8419 - acc: 0.7246 - val_loss: 1.4907 - val_acc: 0.4899\n",
      "Epoch 32/50\n",
      "50000/50000 [==============================] - 2s 44us/step - loss: 0.8206 - acc: 0.7346 - val_loss: 1.4929 - val_acc: 0.4918\n",
      "Epoch 33/50\n",
      "50000/50000 [==============================] - 2s 44us/step - loss: 0.8016 - acc: 0.7408 - val_loss: 1.5018 - val_acc: 0.4914\n",
      "Epoch 34/50\n",
      "50000/50000 [==============================] - 2s 44us/step - loss: 0.7832 - acc: 0.7478 - val_loss: 1.5201 - val_acc: 0.4866\n",
      "Epoch 35/50\n",
      "50000/50000 [==============================] - 2s 44us/step - loss: 0.7637 - acc: 0.7557 - val_loss: 1.5106 - val_acc: 0.4913\n",
      "Epoch 36/50\n",
      "50000/50000 [==============================] - 2s 44us/step - loss: 0.7434 - acc: 0.7642 - val_loss: 1.5392 - val_acc: 0.4859\n",
      "Epoch 37/50\n",
      "50000/50000 [==============================] - 2s 44us/step - loss: 0.7246 - acc: 0.7714 - val_loss: 1.5433 - val_acc: 0.4872\n",
      "Epoch 38/50\n",
      "50000/50000 [==============================] - 2s 44us/step - loss: 0.7058 - acc: 0.7791 - val_loss: 1.5470 - val_acc: 0.4872\n",
      "Epoch 39/50\n",
      "50000/50000 [==============================] - 2s 44us/step - loss: 0.6882 - acc: 0.7844 - val_loss: 1.5503 - val_acc: 0.4931\n",
      "Epoch 40/50\n",
      "50000/50000 [==============================] - 2s 44us/step - loss: 0.6683 - acc: 0.7943 - val_loss: 1.5613 - val_acc: 0.4893\n",
      "Epoch 41/50\n",
      "50000/50000 [==============================] - 2s 44us/step - loss: 0.6513 - acc: 0.8004 - val_loss: 1.5933 - val_acc: 0.4852\n",
      "Epoch 42/50\n",
      "50000/50000 [==============================] - 2s 43us/step - loss: 0.6353 - acc: 0.8058 - val_loss: 1.5916 - val_acc: 0.4799\n",
      "Epoch 43/50\n",
      "50000/50000 [==============================] - 2s 43us/step - loss: 0.6153 - acc: 0.8151 - val_loss: 1.6148 - val_acc: 0.4813\n",
      "Epoch 44/50\n",
      "50000/50000 [==============================] - 2s 43us/step - loss: 0.5968 - acc: 0.8249 - val_loss: 1.6041 - val_acc: 0.4845\n",
      "Epoch 45/50\n",
      "50000/50000 [==============================] - 2s 43us/step - loss: 0.5809 - acc: 0.8298 - val_loss: 1.6218 - val_acc: 0.4881\n",
      "Epoch 46/50\n",
      "50000/50000 [==============================] - 2s 44us/step - loss: 0.5633 - acc: 0.8356 - val_loss: 1.6270 - val_acc: 0.4850\n",
      "Epoch 47/50\n",
      "50000/50000 [==============================] - 2s 43us/step - loss: 0.5436 - acc: 0.8446 - val_loss: 1.6571 - val_acc: 0.4789\n",
      "Epoch 48/50\n",
      "50000/50000 [==============================] - 2s 43us/step - loss: 0.5287 - acc: 0.8485 - val_loss: 1.6590 - val_acc: 0.4806\n",
      "Epoch 49/50\n",
      "50000/50000 [==============================] - 2s 43us/step - loss: 0.5135 - acc: 0.8544 - val_loss: 1.6561 - val_acc: 0.4857\n",
      "Epoch 50/50\n",
      "50000/50000 [==============================] - 2s 43us/step - loss: 0.4962 - acc: 0.8637 - val_loss: 1.6854 - val_acc: 0.4773\n"
     ]
    }
   ],
   "source": [
    "BEST_ONLY = False\n",
    "results = {}\n",
    "\n",
    "keras.backend.clear_session()\n",
    "print(\"Save best only = %r\" % (BEST_ONLY))\n",
    "model_ckpt = ModelCheckpoint(filepath=\"./tmp.h5\",\n",
    "                             monitor=\"val_loss\",\n",
    "                             save_best_only=BEST_ONLY,\n",
    "                             save_weights_only=True)\n",
    "\n",
    "model = build_mlp(input_shape=x_train.shape[1:])\n",
    "model.summary()\n",
    "\n",
    "optimizer = keras.optimizers.SGD(lr=LEARNING_RATE, nesterov=True, momentum=MOMENTUM)\n",
    "model.compile(loss=\"categorical_crossentropy\", metrics=[\"accuracy\"], optimizer=optimizer)\n",
    "\n",
    "model.fit(x_train, y_train,\n",
    "          epochs=EPOCHS,\n",
    "          batch_size=BATCH_SIZE,\n",
    "          validation_data=(x_test, y_test),\n",
    "          shuffle=True,\n",
    "          callbacks=[model_ckpt])\n",
    "\n",
    "train_loss = model.history.history[\"loss\"]\n",
    "valid_loss = model.history.history[\"val_loss\"]\n",
    "train_acc = model.history.history[\"acc\"]\n",
    "valid_acc = model.history.history[\"val_acc\"]"
   ]
  },
  {
   "cell_type": "code",
   "execution_count": 15,
   "metadata": {},
   "outputs": [
    {
     "name": "stdout",
     "output_type": "stream",
     "text": [
      "10000/10000 [==============================] - 1s 79us/step\n"
     ]
    }
   ],
   "source": [
    "model.load_weights(\"./tmp.h5\")\n",
    "loss_loadback, acc_loadback = model.evaluate(x_test, y_test)"
   ]
  },
  {
   "cell_type": "code",
   "execution_count": 16,
   "metadata": {},
   "outputs": [
    {
     "data": {
      "image/png": "[encoded data removed]",
      "text/plain": [
       "<Figure size 432x288 with 1 Axes>"
      ]
     },
     "metadata": {
      "needs_background": "light"
     },
     "output_type": "display_data"
    },
    {
     "data": {
      "image/png": "[encoded data removed]",
      "text/plain": [
       "<Figure size 432x288 with 1 Axes>"
      ]
     },
     "metadata": {
      "needs_background": "light"
     },
     "output_type": "display_data"
    }
   ],
   "source": [
    "%matplotlib inline\n",
    "\n",
    "plt.plot(range(EPOCHS), train_loss, label=\"train loss\")\n",
    "plt.plot(range(EPOCHS), valid_loss, label=\"valid loss\")\n",
    "plt.hlines(y=loss_loadback, xmin=0, xmax=EPOCHS, colors='r', linestyles='--')\n",
    "plt.legend()\n",
    "plt.title(\"Loss\")\n",
    "plt.show()\n",
    "\n",
    "plt.plot(range(EPOCHS), train_acc, label=\"train accuracy\")\n",
    "plt.plot(range(EPOCHS), valid_acc, label=\"valid accuracy\")\n",
    "plt.hlines(y=acc_loadback, xmin=0, xmax=EPOCHS, colors='r', linestyles='--')\n",
    "plt.legend()\n",
    "plt.title(\"Accuracy\")\n",
    "plt.show()"
   ]
  },
  {
   "cell_type": "code",
   "execution_count": null,
   "metadata": {},
   "outputs": [],
   "source": []
  }
 ],
 "metadata": {
  "kernelspec": {
   "display_name": "Python 3",
   "language": "python",
   "name": "python3"
  },
  "language_info": {
   "codemirror_mode": {
    "name": "ipython",
    "version": 3
   },
   "file_extension": ".py",
   "mimetype": "text/x-python",
   "name": "python",
   "nbconvert_exporter": "python",
   "pygments_lexer": "ipython3",
   "version": "3.7.1"
  }
 },
 "nbformat": 4,
 "nbformat_minor": 2
}
