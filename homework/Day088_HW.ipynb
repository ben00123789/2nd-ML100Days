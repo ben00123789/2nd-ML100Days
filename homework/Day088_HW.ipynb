{
 "cells": [
  {
   "cell_type": "markdown",
   "metadata": {},
   "source": [
    "## Work\n",
    "1. 請嘗試寫一個 callback 用來記錄各類別在訓練過程中，對驗證集的 True Positive 與 True Negative"
   ]
  },
  {
   "cell_type": "code",
   "execution_count": 1,
   "metadata": {},
   "outputs": [
    {
     "name": "stderr",
     "output_type": "stream",
     "text": [
      "Using TensorFlow backend.\n"
     ]
    }
   ],
   "source": [
    "import os\n",
    "import keras\n",
    "\n",
    "# Disable GPU\n",
    "os.environ[\"CUDA_VISIBLE_DEVICES\"] = \"0\""
   ]
  },
  {
   "cell_type": "code",
   "execution_count": 2,
   "metadata": {},
   "outputs": [],
   "source": [
    "train, test = keras.datasets.cifar10.load_data()"
   ]
  },
  {
   "cell_type": "code",
   "execution_count": 3,
   "metadata": {},
   "outputs": [],
   "source": [
    "## 資料前處理\n",
    "def preproc_x(x, flatten=True):\n",
    "    x = x / 255.\n",
    "    if flatten:\n",
    "        x = x.reshape((len(x), -1))\n",
    "    return x\n",
    "\n",
    "def preproc_y(y, num_classes=10):\n",
    "    if y.shape[-1] == 1:\n",
    "        y = keras.utils.to_categorical(y, num_classes)\n",
    "    return y    "
   ]
  },
  {
   "cell_type": "code",
   "execution_count": 4,
   "metadata": {},
   "outputs": [],
   "source": [
    "x_train, y_train = train\n",
    "x_test, y_test = test\n",
    "\n",
    "# Preproc the inputs\n",
    "x_train = preproc_x(x_train)\n",
    "x_test = preproc_x(x_test)\n",
    "\n",
    "# Preprc the outputs\n",
    "y_train = preproc_y(y_train)\n",
    "y_test = preproc_y(y_test)"
   ]
  },
  {
   "cell_type": "code",
   "execution_count": 9,
   "metadata": {},
   "outputs": [],
   "source": [
    "from keras.layers import BatchNormalization\n",
    "def build_mlp(input_shape, output_units=10, num_neurons=[256, 256, 256]):\n",
    "    \"\"\"Code Here\n",
    "    建立你的神經網路\n",
    "    \"\"\"\n",
    "    input_layer = keras.layers.Input(input_shape)\n",
    "    \n",
    "    for i, n_units in enumerate(num_neurons):\n",
    "        if i == 0:\n",
    "            x = keras.layers.Dense(units=n_units,\n",
    "                                   activation=\"relu\",\n",
    "                                   name=\"hidden_layer\"+str(i+1))(input_layer)\n",
    "            x = BatchNormalization()(x)\n",
    "        else:\n",
    "            x = keras.layers.Dense(units=n_units,\n",
    "                                   activation=\"relu\",\n",
    "                                   name=\"hidden_layer\"+str(i+1))(x)\n",
    "            x = BatchNormalization()(x)\n",
    "            \n",
    "    out = keras.layers.Dense(units=output_units, activation=\"softmax\", name=\"output\")(x)\n",
    "    \n",
    "    model = keras.models.Model(inputs=[input_layer], outputs=[out])\n",
    "    return model"
   ]
  },
  {
   "cell_type": "code",
   "execution_count": 10,
   "metadata": {},
   "outputs": [],
   "source": [
    "## 超參數設定\n",
    "LEARNING_RATE = 1e-3\n",
    "EPOCHS = 25\n",
    "BATCH_SIZE = 1024\n",
    "MOMENTUM = 0.95"
   ]
  },
  {
   "cell_type": "code",
   "execution_count": 13,
   "metadata": {},
   "outputs": [],
   "source": [
    "# 載入 Callbacks\n",
    "from keras.callbacks import Callback\n",
    "\n",
    "from sklearn.metrics import confusion_matrix\n",
    "\n",
    "# Record_fp_tp\n",
    "class Record_tp_tn(Callback):\n",
    "    \n",
    "    \"\"\"Code Here\n",
    "    撰寫一個紀錄 ture positive 與 true negative 數量的 callbacks    \n",
    "    \"\"\"\n",
    "    def on_train_begin(self, epoch, logs = {}):\n",
    "        logs = logs or {}\n",
    "        record_items = [\"val_tp\", \"val_tn\"]\n",
    "        for i in record_items:\n",
    "            if i in record_items:\n",
    "                if i not in self.params['metrics']:\n",
    "                    self.params['metrics'].append(i)\n",
    "                    \n",
    "    def on_epoch_end(self, epoch, logs = {}, thres=0.5):\n",
    "        logs = logs or {}\n",
    "        y_true = self.validation_data[1].argmax(axis = 1)\n",
    "        y_pred = self.model.predict(self.validation_data[0])\n",
    "        y_pred = (y_pred[:, 1] >= thres) * 1\n",
    "        \n",
    "        cf_matrix = confusion_matrix(y_true, y_pred)\n",
    "        logs[\"val_tp\"] = cf_matrix[1, 1]\n",
    "        logs[\"val_tn\"] = cf_matrix[0, 0]\n",
    "        \n",
    "rec_tptn = Record_tp_tn()"
   ]
  },
  {
   "cell_type": "code",
   "execution_count": 14,
   "metadata": {
    "scrolled": true
   },
   "outputs": [
    {
     "name": "stdout",
     "output_type": "stream",
     "text": [
      "_________________________________________________________________\n",
      "Layer (type)                 Output Shape              Param #   \n",
      "=================================================================\n",
      "input_3 (InputLayer)         (None, 3072)              0         \n",
      "_________________________________________________________________\n",
      "hidden_layer1 (Dense)        (None, 256)               786688    \n",
      "_________________________________________________________________\n",
      "batch_normalization_4 (Batch (None, 256)               1024      \n",
      "_________________________________________________________________\n",
      "hidden_layer2 (Dense)        (None, 256)               65792     \n",
      "_________________________________________________________________\n",
      "batch_normalization_5 (Batch (None, 256)               1024      \n",
      "_________________________________________________________________\n",
      "hidden_layer3 (Dense)        (None, 256)               65792     \n",
      "_________________________________________________________________\n",
      "batch_normalization_6 (Batch (None, 256)               1024      \n",
      "_________________________________________________________________\n",
      "output (Dense)               (None, 10)                2570      \n",
      "=================================================================\n",
      "Total params: 923,914\n",
      "Trainable params: 922,378\n",
      "Non-trainable params: 1,536\n",
      "_________________________________________________________________\n",
      "Train on 50000 samples, validate on 10000 samples\n",
      "Epoch 1/25\n",
      "50000/50000 [==============================] - 3s 64us/step - loss: 2.1781 - acc: 0.2752 - val_loss: 2.0510 - val_acc: 0.3187\n",
      "Epoch 2/25\n",
      "50000/50000 [==============================] - 2s 48us/step - loss: 1.7568 - acc: 0.3867 - val_loss: 1.7984 - val_acc: 0.3717\n",
      "Epoch 3/25\n",
      "50000/50000 [==============================] - 2s 41us/step - loss: 1.6298 - acc: 0.4316 - val_loss: 1.6859 - val_acc: 0.4111\n",
      "Epoch 4/25\n",
      "50000/50000 [==============================] - 2s 39us/step - loss: 1.5583 - acc: 0.4520 - val_loss: 1.6276 - val_acc: 0.4267\n",
      "Epoch 5/25\n",
      "50000/50000 [==============================] - 2s 38us/step - loss: 1.5040 - acc: 0.4722 - val_loss: 1.6004 - val_acc: 0.4405\n",
      "Epoch 6/25\n",
      "50000/50000 [==============================] - 2s 41us/step - loss: 1.4603 - acc: 0.4896 - val_loss: 1.5723 - val_acc: 0.4444\n",
      "Epoch 7/25\n",
      "50000/50000 [==============================] - 2s 40us/step - loss: 1.4241 - acc: 0.5025 - val_loss: 1.5437 - val_acc: 0.4548\n",
      "Epoch 8/25\n",
      "50000/50000 [==============================] - 2s 39us/step - loss: 1.3919 - acc: 0.5143 - val_loss: 1.5368 - val_acc: 0.4647\n",
      "Epoch 9/25\n",
      "50000/50000 [==============================] - 2s 39us/step - loss: 1.3639 - acc: 0.5261 - val_loss: 1.5239 - val_acc: 0.4647\n",
      "Epoch 10/25\n",
      "50000/50000 [==============================] - 2s 38us/step - loss: 1.3376 - acc: 0.5352 - val_loss: 1.4965 - val_acc: 0.4762\n",
      "Epoch 11/25\n",
      "50000/50000 [==============================] - 2s 38us/step - loss: 1.3122 - acc: 0.5437 - val_loss: 1.4917 - val_acc: 0.4774\n",
      "Epoch 12/25\n",
      "50000/50000 [==============================] - 2s 40us/step - loss: 1.2868 - acc: 0.5527 - val_loss: 1.4815 - val_acc: 0.4806\n",
      "Epoch 13/25\n",
      "50000/50000 [==============================] - 2s 39us/step - loss: 1.2650 - acc: 0.5621 - val_loss: 1.4824 - val_acc: 0.4755\n",
      "Epoch 14/25\n",
      "50000/50000 [==============================] - 2s 39us/step - loss: 1.2433 - acc: 0.5695 - val_loss: 1.4658 - val_acc: 0.4847\n",
      "Epoch 15/25\n",
      "50000/50000 [==============================] - 2s 39us/step - loss: 1.2225 - acc: 0.5772 - val_loss: 1.4657 - val_acc: 0.4821\n",
      "Epoch 16/25\n",
      "50000/50000 [==============================] - 2s 39us/step - loss: 1.2026 - acc: 0.5840 - val_loss: 1.4652 - val_acc: 0.4862\n",
      "Epoch 17/25\n",
      "50000/50000 [==============================] - 2s 39us/step - loss: 1.1848 - acc: 0.5910 - val_loss: 1.4651 - val_acc: 0.4880\n",
      "Epoch 18/25\n",
      "50000/50000 [==============================] - 2s 39us/step - loss: 1.1640 - acc: 0.5976 - val_loss: 1.4492 - val_acc: 0.4913\n",
      "Epoch 19/25\n",
      "50000/50000 [==============================] - 2s 38us/step - loss: 1.1450 - acc: 0.6052 - val_loss: 1.4546 - val_acc: 0.4913\n",
      "Epoch 20/25\n",
      "50000/50000 [==============================] - 2s 40us/step - loss: 1.1278 - acc: 0.6110 - val_loss: 1.4663 - val_acc: 0.4874\n",
      "Epoch 21/25\n",
      "50000/50000 [==============================] - 2s 39us/step - loss: 1.1107 - acc: 0.6169 - val_loss: 1.4495 - val_acc: 0.4919\n",
      "Epoch 22/25\n",
      "50000/50000 [==============================] - 2s 39us/step - loss: 1.0927 - acc: 0.6251 - val_loss: 1.4463 - val_acc: 0.4973\n",
      "Epoch 23/25\n",
      "50000/50000 [==============================] - 2s 40us/step - loss: 1.0734 - acc: 0.6311 - val_loss: 1.4489 - val_acc: 0.4982\n",
      "Epoch 24/25\n",
      "50000/50000 [==============================] - 2s 39us/step - loss: 1.0585 - acc: 0.6389 - val_loss: 1.4487 - val_acc: 0.4953\n",
      "Epoch 25/25\n",
      "50000/50000 [==============================] - 2s 39us/step - loss: 1.0405 - acc: 0.6443 - val_loss: 1.4532 - val_acc: 0.4960\n"
     ]
    }
   ],
   "source": [
    "model = build_mlp(input_shape=x_train.shape[1:])\n",
    "model.summary()\n",
    "optimizer = keras.optimizers.SGD(lr=LEARNING_RATE, nesterov=True, momentum=MOMENTUM)\n",
    "model.compile(loss=\"categorical_crossentropy\", metrics=[\"accuracy\"], optimizer=optimizer)\n",
    "\n",
    "\"\"\"Code Here\n",
    "將 callbacks 放入模型訓練流程中\n",
    "\"\"\"\n",
    "model.fit(x_train, y_train,\n",
    "          epochs=EPOCHS,\n",
    "          batch_size=BATCH_SIZE,\n",
    "          validation_data=(x_test, y_test),\n",
    "          shuffle=True,\n",
    "          callbacks=[rec_tptn])\n",
    "\n",
    "# Collect results\n",
    "train_loss = model.history.history[\"loss\"]\n",
    "valid_loss = model.history.history[\"val_loss\"]\n",
    "train_acc = model.history.history[\"acc\"]\n",
    "valid_acc = model.history.history[\"val_acc\"]\n",
    "\n",
    "\"\"\"Code Here\n",
    "將 tp/tn 從訓練完的模型中取出\n",
    "\"\"\"\n",
    "valid_tp = model.history.history['val_tp']\n",
    "valid_tn = model.history.history['val_tn']"
   ]
  },
  {
   "cell_type": "code",
   "execution_count": 15,
   "metadata": {},
   "outputs": [
    {
     "data": {
      "image/png": "[encoded data removed]",
      "text/plain": [
       "<Figure size 432x288 with 1 Axes>"
      ]
     },
     "metadata": {
      "needs_background": "light"
     },
     "output_type": "display_data"
    },
    {
     "data": {
      "image/png": "[encoded data removed]",
      "text/plain": [
       "<Figure size 432x288 with 1 Axes>"
      ]
     },
     "metadata": {
      "needs_background": "light"
     },
     "output_type": "display_data"
    },
    {
     "data": {
      "image/png": "[encoded data removed]",
      "text/plain": [
       "<Figure size 432x288 with 1 Axes>"
      ]
     },
     "metadata": {
      "needs_background": "light"
     },
     "output_type": "display_data"
    }
   ],
   "source": [
    "import matplotlib.pyplot as plt\n",
    "%matplotlib inline\n",
    "\n",
    "plt.plot(range(len(train_loss)), train_loss, label=\"train loss\")\n",
    "plt.plot(range(len(valid_loss)), valid_loss, label=\"valid loss\")\n",
    "plt.legend()\n",
    "plt.title(\"Loss\")\n",
    "plt.show()\n",
    "\n",
    "plt.plot(range(len(train_acc)), train_acc, label=\"train accuracy\")\n",
    "plt.plot(range(len(valid_acc)), valid_acc, label=\"valid accuracy\")\n",
    "plt.legend()\n",
    "plt.title(\"Accuracy\")\n",
    "plt.show()\n",
    "\n",
    "plt.plot(range(len(valid_tp)), valid_tp, label=\"valid tp\", color=\"navy\")\n",
    "plt.plot(range(len(valid_tn)), valid_tn, label=\"valid tn\", color=\"red\")\n",
    "plt.legend()\n",
    "plt.title(\"True positives and True Negatives\")\n",
    "plt.show()\n"
   ]
  },
  {
   "cell_type": "code",
   "execution_count": null,
   "metadata": {},
   "outputs": [],
   "source": []
  }
 ],
 "metadata": {
  "kernelspec": {
   "display_name": "Python 3",
   "language": "python",
   "name": "python3"
  },
  "language_info": {
   "codemirror_mode": {
    "name": "ipython",
    "version": 3
   },
   "file_extension": ".py",
   "mimetype": "text/x-python",
   "name": "python",
   "nbconvert_exporter": "python",
   "pygments_lexer": "ipython3",
   "version": "3.7.1"
  }
 },
 "nbformat": 4,
 "nbformat_minor": 2
}
