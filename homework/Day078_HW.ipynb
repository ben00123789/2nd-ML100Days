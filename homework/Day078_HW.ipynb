{
 "cells": [
  {
   "cell_type": "markdown",
   "metadata": {},
   "source": [
    "## Work\n",
    "1. 請嘗試將 preproc_x 替換成以每筆資料的 min/max 進行標準化至 -1 ~ 1 間，再進行訓練\n",
    "2. 請嘗試將 mlp 疊更深 (e.g 5~10 層)，進行訓練後觀察 learning curve 的走勢\n",
    "3. (optional) 請改用 GPU 進行訓練 (如果你有 GPU 的話)，比較使用 CPU 與 GPU 的訓練速度"
   ]
  },
  {
   "cell_type": "code",
   "execution_count": 1,
   "metadata": {},
   "outputs": [
    {
     "data": {
      "text/plain": [
       "'\\nYour code here (optional)\\n確認硬體資源\\n'"
      ]
     },
     "execution_count": 1,
     "metadata": {},
     "output_type": "execute_result"
    }
   ],
   "source": [
    "## \n",
    "\"\"\"\n",
    "Your code here (optional)\n",
    "確認硬體資源\n",
    "\"\"\"\n"
   ]
  },
  {
   "cell_type": "code",
   "execution_count": 2,
   "metadata": {},
   "outputs": [
    {
     "name": "stderr",
     "output_type": "stream",
     "text": [
      "Using TensorFlow backend.\n"
     ]
    }
   ],
   "source": [
    "import os\n",
    "import keras\n",
    "\n",
    "# 請嘗試設定 GPU：os.environ\n",
    "os.environ[\"CUDA_VISIBLE_DEVICES\"] = \"0\""
   ]
  },
  {
   "cell_type": "code",
   "execution_count": 3,
   "metadata": {},
   "outputs": [],
   "source": [
    "train, test = keras.datasets.cifar10.load_data()"
   ]
  },
  {
   "cell_type": "code",
   "execution_count": 4,
   "metadata": {},
   "outputs": [],
   "source": [
    "## 資料前處理\n",
    "\"\"\"\n",
    "Your code here\n",
    "\"\"\"\n",
    "import numpy as np\n",
    "\n",
    "def preproc_x(x, flatten=True):\n",
    "    x = ( x - np.min(x) ) / ( np.max(x) - np.min(x) )\n",
    "    if flatten:\n",
    "        x = x.reshape((len(x), -1))\n",
    "    return x\n",
    "\n",
    "def preproc_y(y, num_classes=10):\n",
    "    if y.shape[-1] == 1:\n",
    "        y = keras.utils.to_categorical(y, num_classes)\n",
    "    return y"
   ]
  },
  {
   "cell_type": "code",
   "execution_count": 5,
   "metadata": {},
   "outputs": [],
   "source": [
    "x_train, y_train = train\n",
    "x_test, y_test = test\n",
    "\n",
    "# Preproc the inputs\n",
    "x_train = preproc_x(x_train)\n",
    "x_test = preproc_x(x_test)\n",
    "\n",
    "# Preprc the outputs\n",
    "y_train = preproc_y(y_train)\n",
    "y_test = preproc_y(y_test)"
   ]
  },
  {
   "cell_type": "code",
   "execution_count": 6,
   "metadata": {},
   "outputs": [
    {
     "name": "stdout",
     "output_type": "stream",
     "text": [
      "WARNING:tensorflow:From D:\\Software\\Anaconda3\\lib\\site-packages\\tensorflow\\python\\framework\\op_def_library.py:263: colocate_with (from tensorflow.python.framework.ops) is deprecated and will be removed in a future version.\n",
      "Instructions for updating:\n",
      "Colocations handled automatically by placer.\n",
      "_________________________________________________________________\n",
      "Layer (type)                 Output Shape              Param #   \n",
      "=================================================================\n",
      "input_1 (InputLayer)         (None, 3072)              0         \n",
      "_________________________________________________________________\n",
      "hidden_layer1 (Dense)        (None, 512)               1573376   \n",
      "_________________________________________________________________\n",
      "hidden_layer2 (Dense)        (None, 256)               131328    \n",
      "_________________________________________________________________\n",
      "hidden_layer3 (Dense)        (None, 128)               32896     \n",
      "_________________________________________________________________\n",
      "hidden_layer4 (Dense)        (None, 64)                8256      \n",
      "_________________________________________________________________\n",
      "hidden_layer5 (Dense)        (None, 32)                2080      \n",
      "_________________________________________________________________\n",
      "output (Dense)               (None, 10)                330       \n",
      "=================================================================\n",
      "Total params: 1,748,266\n",
      "Trainable params: 1,748,266\n",
      "Non-trainable params: 0\n",
      "_________________________________________________________________\n",
      "None\n"
     ]
    }
   ],
   "source": [
    "\"\"\"Code Here\n",
    "建立你的神經網路\n",
    "\"\"\"\n",
    "def build_mlp(input_shape, output_units=10, num_neurons=[512, 256, 128, 64, 32]):\n",
    "    input_layer = keras.layers.Input(input_shape)\n",
    "    \n",
    "    for i, n_units in enumerate(num_neurons):\n",
    "        if i == 0:\n",
    "            x = keras.layers.Dense(units=n_units, activation=\"relu\", name=\"hidden_layer\"+str(i+1))(input_layer)\n",
    "        else:\n",
    "            x = keras.layers.Dense(units=n_units, activation=\"relu\", name=\"hidden_layer\"+str(i+1))(x)\n",
    "\n",
    "    out = keras.layers.Dense(units=output_units, activation=\"softmax\", name=\"output\")(x)\n",
    "    \n",
    "    model = keras.models.Model(inputs=[input_layer], outputs=[out])\n",
    "    return model\n",
    "model = build_mlp(input_shape=x_train.shape[1:])\n",
    "\n",
    "print(model.summary())"
   ]
  },
  {
   "cell_type": "code",
   "execution_count": 7,
   "metadata": {},
   "outputs": [],
   "source": [
    "## 超參數設定\n",
    "LEARNING_RATE = 0.001\n",
    "EPOCHS = 100\n",
    "BATCH_SIZE = 256"
   ]
  },
  {
   "cell_type": "code",
   "execution_count": 8,
   "metadata": {},
   "outputs": [],
   "source": [
    "optimizer = keras.optimizers.Adam(lr=LEARNING_RATE)\n",
    "model.compile(loss=\"categorical_crossentropy\", metrics=[\"accuracy\"], optimizer=optimizer)"
   ]
  },
  {
   "cell_type": "code",
   "execution_count": 9,
   "metadata": {},
   "outputs": [
    {
     "name": "stdout",
     "output_type": "stream",
     "text": [
      "WARNING:tensorflow:From D:\\Software\\Anaconda3\\lib\\site-packages\\tensorflow\\python\\ops\\math_ops.py:3066: to_int32 (from tensorflow.python.ops.math_ops) is deprecated and will be removed in a future version.\n",
      "Instructions for updating:\n",
      "Use tf.cast instead.\n",
      "Train on 50000 samples, validate on 10000 samples\n",
      "Epoch 1/100\n",
      "50000/50000 [==============================] - 18s 361us/step - loss: 2.0398 - acc: 0.2336 - val_loss: 1.8587 - val_acc: 0.3269\n",
      "Epoch 2/100\n",
      "50000/50000 [==============================] - 4s 87us/step - loss: 1.8033 - acc: 0.3457 - val_loss: 1.7402 - val_acc: 0.3711\n",
      "Epoch 3/100\n",
      "50000/50000 [==============================] - 4s 90us/step - loss: 1.6994 - acc: 0.3870 - val_loss: 1.6193 - val_acc: 0.4242\n",
      "Epoch 4/100\n",
      "50000/50000 [==============================] - 4s 88us/step - loss: 1.6166 - acc: 0.4196 - val_loss: 1.5617 - val_acc: 0.4366\n",
      "Epoch 5/100\n",
      "50000/50000 [==============================] - 4s 88us/step - loss: 1.5599 - acc: 0.4406 - val_loss: 1.5399 - val_acc: 0.4404\n",
      "Epoch 6/100\n",
      "50000/50000 [==============================] - 4s 88us/step - loss: 1.5071 - acc: 0.4606 - val_loss: 1.5082 - val_acc: 0.4638\n",
      "Epoch 7/100\n",
      "50000/50000 [==============================] - 4s 87us/step - loss: 1.4753 - acc: 0.4716 - val_loss: 1.4671 - val_acc: 0.4710\n",
      "Epoch 8/100\n",
      "50000/50000 [==============================] - 4s 87us/step - loss: 1.4385 - acc: 0.4870 - val_loss: 1.4803 - val_acc: 0.4746\n",
      "Epoch 9/100\n",
      "50000/50000 [==============================] - 4s 87us/step - loss: 1.4034 - acc: 0.4949 - val_loss: 1.4632 - val_acc: 0.4716\n",
      "Epoch 10/100\n",
      "50000/50000 [==============================] - 4s 87us/step - loss: 1.3846 - acc: 0.5038 - val_loss: 1.4514 - val_acc: 0.4776\n",
      "Epoch 11/100\n",
      "50000/50000 [==============================] - 4s 87us/step - loss: 1.3612 - acc: 0.5130 - val_loss: 1.4402 - val_acc: 0.4843\n",
      "Epoch 12/100\n",
      "50000/50000 [==============================] - 4s 86us/step - loss: 1.3268 - acc: 0.5277 - val_loss: 1.4346 - val_acc: 0.4916\n",
      "Epoch 13/100\n",
      "50000/50000 [==============================] - 4s 87us/step - loss: 1.3063 - acc: 0.5342 - val_loss: 1.4374 - val_acc: 0.4928\n",
      "Epoch 14/100\n",
      "50000/50000 [==============================] - 4s 87us/step - loss: 1.2842 - acc: 0.5382 - val_loss: 1.3821 - val_acc: 0.5116\n",
      "Epoch 15/100\n",
      "50000/50000 [==============================] - 4s 87us/step - loss: 1.2530 - acc: 0.5514 - val_loss: 1.4409 - val_acc: 0.4939\n",
      "Epoch 16/100\n",
      "50000/50000 [==============================] - 4s 87us/step - loss: 1.2371 - acc: 0.5591 - val_loss: 1.3814 - val_acc: 0.5080\n",
      "Epoch 17/100\n",
      "50000/50000 [==============================] - 4s 87us/step - loss: 1.2318 - acc: 0.5627 - val_loss: 1.3980 - val_acc: 0.5076\n",
      "Epoch 18/100\n",
      "50000/50000 [==============================] - 4s 86us/step - loss: 1.1996 - acc: 0.5718 - val_loss: 1.3851 - val_acc: 0.5127\n",
      "Epoch 19/100\n",
      "50000/50000 [==============================] - 4s 87us/step - loss: 1.1708 - acc: 0.5810 - val_loss: 1.3993 - val_acc: 0.5136\n",
      "Epoch 20/100\n",
      "50000/50000 [==============================] - 4s 87us/step - loss: 1.1521 - acc: 0.5883 - val_loss: 1.3913 - val_acc: 0.5125\n",
      "Epoch 21/100\n",
      "50000/50000 [==============================] - 4s 87us/step - loss: 1.1375 - acc: 0.5947 - val_loss: 1.3953 - val_acc: 0.5113\n",
      "Epoch 22/100\n",
      "50000/50000 [==============================] - 4s 87us/step - loss: 1.1141 - acc: 0.6009 - val_loss: 1.3944 - val_acc: 0.5211\n",
      "Epoch 23/100\n",
      "50000/50000 [==============================] - 4s 87us/step - loss: 1.0940 - acc: 0.6102 - val_loss: 1.3966 - val_acc: 0.5144\n",
      "Epoch 24/100\n",
      "50000/50000 [==============================] - 4s 87us/step - loss: 1.0713 - acc: 0.6151 - val_loss: 1.3790 - val_acc: 0.5187\n",
      "Epoch 25/100\n",
      "50000/50000 [==============================] - 4s 88us/step - loss: 1.0599 - acc: 0.6220 - val_loss: 1.3962 - val_acc: 0.5218\n",
      "Epoch 26/100\n",
      "50000/50000 [==============================] - 4s 88us/step - loss: 1.0377 - acc: 0.6298 - val_loss: 1.4070 - val_acc: 0.5238\n",
      "Epoch 27/100\n",
      "50000/50000 [==============================] - 4s 87us/step - loss: 1.0165 - acc: 0.6384 - val_loss: 1.4035 - val_acc: 0.5212\n",
      "Epoch 28/100\n",
      "50000/50000 [==============================] - 4s 87us/step - loss: 0.9962 - acc: 0.6410 - val_loss: 1.4437 - val_acc: 0.5110\n",
      "Epoch 29/100\n",
      "50000/50000 [==============================] - 4s 87us/step - loss: 0.9804 - acc: 0.6488 - val_loss: 1.4576 - val_acc: 0.5134\n",
      "Epoch 30/100\n",
      "50000/50000 [==============================] - 4s 87us/step - loss: 0.9662 - acc: 0.6531 - val_loss: 1.4491 - val_acc: 0.5218\n",
      "Epoch 31/100\n",
      "50000/50000 [==============================] - 4s 88us/step - loss: 0.9415 - acc: 0.6637 - val_loss: 1.4645 - val_acc: 0.5250\n",
      "Epoch 32/100\n",
      "50000/50000 [==============================] - 4s 87us/step - loss: 0.9189 - acc: 0.6735 - val_loss: 1.4564 - val_acc: 0.5240\n",
      "Epoch 33/100\n",
      "50000/50000 [==============================] - 4s 88us/step - loss: 0.9132 - acc: 0.6734 - val_loss: 1.4664 - val_acc: 0.5212\n",
      "Epoch 34/100\n",
      "50000/50000 [==============================] - 4s 88us/step - loss: 0.8981 - acc: 0.6790 - val_loss: 1.5004 - val_acc: 0.5130\n",
      "Epoch 35/100\n",
      "50000/50000 [==============================] - 4s 88us/step - loss: 0.8811 - acc: 0.6841 - val_loss: 1.5044 - val_acc: 0.5189\n",
      "Epoch 36/100\n",
      "50000/50000 [==============================] - 4s 89us/step - loss: 0.8635 - acc: 0.6913 - val_loss: 1.5132 - val_acc: 0.5216\n",
      "Epoch 37/100\n",
      "50000/50000 [==============================] - 4s 88us/step - loss: 0.8499 - acc: 0.6959 - val_loss: 1.5205 - val_acc: 0.5223\n",
      "Epoch 38/100\n",
      "50000/50000 [==============================] - 4s 88us/step - loss: 0.8194 - acc: 0.7067 - val_loss: 1.6174 - val_acc: 0.5077\n",
      "Epoch 39/100\n",
      "50000/50000 [==============================] - 4s 88us/step - loss: 0.8234 - acc: 0.7062 - val_loss: 1.5687 - val_acc: 0.5198\n",
      "Epoch 40/100\n",
      "50000/50000 [==============================] - 4s 88us/step - loss: 0.7963 - acc: 0.7148 - val_loss: 1.5759 - val_acc: 0.5214\n",
      "Epoch 41/100\n",
      "50000/50000 [==============================] - 4s 88us/step - loss: 0.7995 - acc: 0.7155 - val_loss: 1.5929 - val_acc: 0.5141\n",
      "Epoch 42/100\n",
      "50000/50000 [==============================] - 4s 87us/step - loss: 0.7719 - acc: 0.7226 - val_loss: 1.6513 - val_acc: 0.5185\n",
      "Epoch 43/100\n",
      "50000/50000 [==============================] - 4s 89us/step - loss: 0.7581 - acc: 0.7260 - val_loss: 1.6829 - val_acc: 0.5173\n",
      "Epoch 44/100\n",
      "50000/50000 [==============================] - 4s 88us/step - loss: 0.7466 - acc: 0.7315 - val_loss: 1.7162 - val_acc: 0.5062\n",
      "Epoch 45/100\n",
      "50000/50000 [==============================] - 4s 88us/step - loss: 0.7293 - acc: 0.7366 - val_loss: 1.7877 - val_acc: 0.5061\n",
      "Epoch 46/100\n",
      "50000/50000 [==============================] - 4s 88us/step - loss: 0.7147 - acc: 0.7419 - val_loss: 1.7341 - val_acc: 0.5121\n",
      "Epoch 47/100\n",
      "50000/50000 [==============================] - 4s 88us/step - loss: 0.7048 - acc: 0.7467 - val_loss: 1.7414 - val_acc: 0.5133\n",
      "Epoch 48/100\n",
      "50000/50000 [==============================] - 4s 89us/step - loss: 0.7041 - acc: 0.7466 - val_loss: 1.7601 - val_acc: 0.5077\n",
      "Epoch 49/100\n",
      "50000/50000 [==============================] - 4s 88us/step - loss: 0.6710 - acc: 0.7608 - val_loss: 1.8242 - val_acc: 0.5059\n",
      "Epoch 50/100\n",
      "50000/50000 [==============================] - 4s 89us/step - loss: 0.6615 - acc: 0.7618 - val_loss: 1.8402 - val_acc: 0.5111\n",
      "Epoch 51/100\n",
      "50000/50000 [==============================] - 5s 91us/step - loss: 0.6553 - acc: 0.7641 - val_loss: 1.8410 - val_acc: 0.5055\n",
      "Epoch 52/100\n",
      "50000/50000 [==============================] - 4s 87us/step - loss: 0.6440 - acc: 0.7692 - val_loss: 1.8552 - val_acc: 0.5183\n",
      "Epoch 53/100\n",
      "50000/50000 [==============================] - 4s 87us/step - loss: 0.6280 - acc: 0.7736 - val_loss: 1.9401 - val_acc: 0.5028\n",
      "Epoch 54/100\n",
      "50000/50000 [==============================] - 4s 88us/step - loss: 0.6251 - acc: 0.7744 - val_loss: 1.9288 - val_acc: 0.5018\n",
      "Epoch 55/100\n",
      "50000/50000 [==============================] - 4s 87us/step - loss: 0.6117 - acc: 0.7797 - val_loss: 1.9457 - val_acc: 0.5099\n",
      "Epoch 56/100\n",
      "50000/50000 [==============================] - 4s 90us/step - loss: 0.5960 - acc: 0.7839 - val_loss: 1.9798 - val_acc: 0.5033\n",
      "Epoch 57/100\n",
      "50000/50000 [==============================] - 4s 88us/step - loss: 0.6017 - acc: 0.7840 - val_loss: 2.0366 - val_acc: 0.4961\n",
      "Epoch 58/100\n",
      "50000/50000 [==============================] - 4s 87us/step - loss: 0.5739 - acc: 0.7921 - val_loss: 2.0799 - val_acc: 0.5047\n",
      "Epoch 59/100\n",
      "50000/50000 [==============================] - 4s 86us/step - loss: 0.5634 - acc: 0.7981 - val_loss: 2.1148 - val_acc: 0.4954\n",
      "Epoch 60/100\n",
      "50000/50000 [==============================] - 4s 86us/step - loss: 0.5635 - acc: 0.8000 - val_loss: 2.1321 - val_acc: 0.5102\n",
      "Epoch 61/100\n",
      "50000/50000 [==============================] - 4s 86us/step - loss: 0.5363 - acc: 0.8065 - val_loss: 2.1555 - val_acc: 0.5028\n",
      "Epoch 62/100\n",
      "50000/50000 [==============================] - 5s 94us/step - loss: 0.5570 - acc: 0.8005 - val_loss: 2.1040 - val_acc: 0.4989\n",
      "Epoch 63/100\n",
      "50000/50000 [==============================] - 4s 89us/step - loss: 0.5349 - acc: 0.8088 - val_loss: 2.1942 - val_acc: 0.4983\n",
      "Epoch 64/100\n",
      "50000/50000 [==============================] - 4s 89us/step - loss: 0.5422 - acc: 0.8044 - val_loss: 2.2264 - val_acc: 0.4850\n",
      "Epoch 65/100\n",
      "50000/50000 [==============================] - 4s 87us/step - loss: 0.5152 - acc: 0.8144 - val_loss: 2.2882 - val_acc: 0.4985\n",
      "Epoch 66/100\n",
      "50000/50000 [==============================] - 4s 87us/step - loss: 0.4979 - acc: 0.8216 - val_loss: 2.2324 - val_acc: 0.4999\n",
      "Epoch 67/100\n",
      "50000/50000 [==============================] - 4s 88us/step - loss: 0.4958 - acc: 0.8215 - val_loss: 2.2955 - val_acc: 0.4993\n",
      "Epoch 68/100\n",
      "50000/50000 [==============================] - 4s 87us/step - loss: 0.5014 - acc: 0.8193 - val_loss: 2.3389 - val_acc: 0.4983\n",
      "Epoch 69/100\n",
      "50000/50000 [==============================] - 4s 87us/step - loss: 0.4759 - acc: 0.8279 - val_loss: 2.4708 - val_acc: 0.4939\n",
      "Epoch 70/100\n",
      "50000/50000 [==============================] - 4s 87us/step - loss: 0.4713 - acc: 0.8300 - val_loss: 2.3491 - val_acc: 0.5038\n",
      "Epoch 71/100\n",
      "50000/50000 [==============================] - 4s 87us/step - loss: 0.4603 - acc: 0.8343 - val_loss: 2.3581 - val_acc: 0.5086\n",
      "Epoch 72/100\n",
      "50000/50000 [==============================] - 4s 88us/step - loss: 0.4644 - acc: 0.8325 - val_loss: 2.3821 - val_acc: 0.4973\n",
      "Epoch 73/100\n",
      "50000/50000 [==============================] - 4s 87us/step - loss: 0.4337 - acc: 0.8428 - val_loss: 2.4484 - val_acc: 0.4950\n",
      "Epoch 74/100\n",
      "50000/50000 [==============================] - 4s 88us/step - loss: 0.4720 - acc: 0.8310 - val_loss: 2.4058 - val_acc: 0.5028\n",
      "Epoch 75/100\n",
      "50000/50000 [==============================] - 4s 89us/step - loss: 0.4377 - acc: 0.8412 - val_loss: 2.4717 - val_acc: 0.4987\n",
      "Epoch 76/100\n",
      "50000/50000 [==============================] - 4s 85us/step - loss: 0.4344 - acc: 0.8433 - val_loss: 2.5660 - val_acc: 0.4972\n",
      "Epoch 77/100\n",
      "50000/50000 [==============================] - 4s 86us/step - loss: 0.4364 - acc: 0.8435 - val_loss: 2.5085 - val_acc: 0.4956\n",
      "Epoch 78/100\n",
      "50000/50000 [==============================] - 4s 85us/step - loss: 0.4288 - acc: 0.8454 - val_loss: 2.5882 - val_acc: 0.4945\n",
      "Epoch 79/100\n",
      "50000/50000 [==============================] - 4s 87us/step - loss: 0.4332 - acc: 0.8452 - val_loss: 2.5737 - val_acc: 0.4956\n",
      "Epoch 80/100\n",
      "50000/50000 [==============================] - 4s 86us/step - loss: 0.4056 - acc: 0.8542 - val_loss: 2.5749 - val_acc: 0.4961\n",
      "Epoch 81/100\n",
      "50000/50000 [==============================] - 4s 86us/step - loss: 0.4078 - acc: 0.8544 - val_loss: 2.7076 - val_acc: 0.4975\n",
      "Epoch 82/100\n",
      "50000/50000 [==============================] - 4s 86us/step - loss: 0.3859 - acc: 0.8627 - val_loss: 2.6409 - val_acc: 0.4943\n",
      "Epoch 83/100\n",
      "50000/50000 [==============================] - 4s 87us/step - loss: 0.3791 - acc: 0.8639 - val_loss: 2.7213 - val_acc: 0.4981\n",
      "Epoch 84/100\n",
      "50000/50000 [==============================] - 4s 86us/step - loss: 0.4206 - acc: 0.8488 - val_loss: 2.7164 - val_acc: 0.4958\n",
      "Epoch 85/100\n",
      "50000/50000 [==============================] - 4s 86us/step - loss: 0.4116 - acc: 0.8521 - val_loss: 2.6181 - val_acc: 0.4981\n",
      "Epoch 86/100\n",
      "50000/50000 [==============================] - 4s 87us/step - loss: 0.3704 - acc: 0.8662 - val_loss: 2.7648 - val_acc: 0.4969\n",
      "Epoch 87/100\n",
      "50000/50000 [==============================] - 4s 87us/step - loss: 0.3742 - acc: 0.8661 - val_loss: 2.7422 - val_acc: 0.4984\n",
      "Epoch 88/100\n",
      "50000/50000 [==============================] - 4s 87us/step - loss: 0.3724 - acc: 0.8665 - val_loss: 2.6825 - val_acc: 0.4991\n",
      "Epoch 89/100\n",
      "50000/50000 [==============================] - 4s 86us/step - loss: 0.3630 - acc: 0.8691 - val_loss: 2.8698 - val_acc: 0.4945\n",
      "Epoch 90/100\n",
      "50000/50000 [==============================] - 4s 86us/step - loss: 0.3689 - acc: 0.8674 - val_loss: 2.8128 - val_acc: 0.4954\n",
      "Epoch 91/100\n",
      "50000/50000 [==============================] - 4s 86us/step - loss: 0.3652 - acc: 0.8698 - val_loss: 2.8773 - val_acc: 0.4872\n",
      "Epoch 92/100\n",
      "50000/50000 [==============================] - 4s 86us/step - loss: 0.3759 - acc: 0.8648 - val_loss: 2.9318 - val_acc: 0.4923\n",
      "Epoch 93/100\n",
      "50000/50000 [==============================] - 4s 87us/step - loss: 0.3457 - acc: 0.8758 - val_loss: 2.8367 - val_acc: 0.4966\n",
      "Epoch 94/100\n",
      "50000/50000 [==============================] - 4s 86us/step - loss: 0.3266 - acc: 0.8830 - val_loss: 2.9200 - val_acc: 0.4948\n",
      "Epoch 95/100\n",
      "50000/50000 [==============================] - 4s 87us/step - loss: 0.3378 - acc: 0.8791 - val_loss: 3.1098 - val_acc: 0.4803\n",
      "Epoch 96/100\n",
      "50000/50000 [==============================] - 4s 87us/step - loss: 0.3746 - acc: 0.8656 - val_loss: 2.8525 - val_acc: 0.4951\n",
      "Epoch 97/100\n",
      "50000/50000 [==============================] - 4s 87us/step - loss: 0.3364 - acc: 0.8797 - val_loss: 2.9431 - val_acc: 0.4967\n",
      "Epoch 98/100\n",
      "50000/50000 [==============================] - 4s 86us/step - loss: 0.3488 - acc: 0.8763 - val_loss: 2.8867 - val_acc: 0.4975\n",
      "Epoch 99/100\n",
      "50000/50000 [==============================] - 4s 87us/step - loss: 0.3116 - acc: 0.8890 - val_loss: 2.9546 - val_acc: 0.5026\n",
      "Epoch 100/100\n",
      "50000/50000 [==============================] - 4s 87us/step - loss: 0.3070 - acc: 0.8897 - val_loss: 2.9889 - val_acc: 0.4917\n"
     ]
    },
    {
     "data": {
      "text/plain": [
       "<keras.callbacks.History at 0x14897c9860>"
      ]
     },
     "execution_count": 9,
     "metadata": {},
     "output_type": "execute_result"
    }
   ],
   "source": [
    "model.fit(x_train, y_train, \n",
    "          epochs=EPOCHS, \n",
    "          batch_size=BATCH_SIZE, \n",
    "          validation_data=(x_test, y_test), \n",
    "          shuffle=True)"
   ]
  },
  {
   "cell_type": "code",
   "execution_count": 11,
   "metadata": {},
   "outputs": [
    {
     "data": {
      "image/png": "[encoded data removed]",
      "text/plain": [
       "<Figure size 432x288 with 1 Axes>"
      ]
     },
     "metadata": {
      "needs_background": "light"
     },
     "output_type": "display_data"
    },
    {
     "data": {
      "image/png": "[encoded data removed]",
      "text/plain": [
       "<Figure size 432x288 with 1 Axes>"
      ]
     },
     "metadata": {
      "needs_background": "light"
     },
     "output_type": "display_data"
    }
   ],
   "source": [
    "import matplotlib.pyplot as plt\n",
    "\n",
    "\n",
    "train_loss = model.history.history[\"loss\"]\n",
    "valid_loss = model.history.history[\"val_loss\"]\n",
    "\n",
    "train_acc = model.history.history[\"acc\"]\n",
    "valid_acc = model.history.history[\"val_acc\"]\n",
    "\n",
    "plt.plot(range(len(train_loss)), train_loss, label=\"train loss\")\n",
    "plt.plot(range(len(valid_loss)), valid_loss, label=\"valid loss\")\n",
    "plt.legend()\n",
    "plt.title(\"Loss\")\n",
    "plt.show()\n",
    "\n",
    "plt.plot(range(len(train_acc)), train_acc, label=\"train accuracy\")\n",
    "plt.plot(range(len(valid_acc)), valid_acc, label=\"valid accuracy\")\n",
    "plt.legend()\n",
    "plt.title(\"Accuracy\")\n",
    "plt.show()"
   ]
  },
  {
   "cell_type": "code",
   "execution_count": null,
   "metadata": {},
   "outputs": [],
   "source": []
  }
 ],
 "metadata": {
  "kernelspec": {
   "display_name": "Python 3",
   "language": "python",
   "name": "python3"
  },
  "language_info": {
   "codemirror_mode": {
    "name": "ipython",
    "version": 3
   },
   "file_extension": ".py",
   "mimetype": "text/x-python",
   "name": "python",
   "nbconvert_exporter": "python",
   "pygments_lexer": "ipython3",
   "version": "3.7.1"
  }
 },
 "nbformat": 4,
 "nbformat_minor": 2
}
